{
 "cells": [
  {
   "cell_type": "code",
   "execution_count": 254,
   "metadata": {},
   "outputs": [],
   "source": [
    "# General imports\n",
    "import numpy as np\n",
    "\n",
    "# Pre-defined operator class for Hamiltonian\n",
    "from qiskit.quantum_info import SparsePauliOp\n",
    "\n",
    "# SciPy minimizer routine\n",
    "from scipy.optimize import minimize\n",
    "\n",
    "# Plotting functions\n",
    "import matplotlib.pyplot as plt\n",
    "\n",
    "# Specific imports for ground state energy calculation\n",
    "from qiskit_nature.units import DistanceUnit\n",
    "from qiskit_nature.second_q.drivers import PySCFDriver\n",
    "from qiskit_nature.second_q.mappers import JordanWignerMapper\n",
    "from qiskit_algorithms.optimizers import SLSQP\n",
    "from qiskit_nature.second_q.circuit.library import HartreeFock, UCCSD, UCC\n",
    "\n",
    "# To be used in performing simulations\n",
    "# from qiskit_ibm_runtime import Session\n",
    "\n",
    "# from qiskit_ibm_runtime import QiskitRuntimeService\n",
    "\n",
    "# from qiskit_aer import AerSimulator\n",
    "# aer_sim = AerSimulator\n",
    "# from qiskit.transpiler.preset_passmanagers import generate_preset_pass_manager\n",
    "\n",
    "from qiskit_nature.second_q.operators.commutators import commutator\n",
    "\n",
    "# from qiskit_aer.primitives import EstimatorV2 as Estimator \n",
    "from qiskit.primitives import Estimator\n",
    "\n",
    "from qiskit.circuit.library import EvolvedOperatorAnsatz\n",
    "import scipy"
   ]
  },
  {
   "cell_type": "code",
   "execution_count": 255,
   "metadata": {},
   "outputs": [
    {
     "name": "stderr",
     "output_type": "stream",
     "text": [
      "/tmp/ipykernel_979963/2768237559.py:26: DeprecationWarning: The class ``qiskit.primitives.estimator.Estimator`` is deprecated as of qiskit 1.2. It will be removed no earlier than 3 months after the release date. All implementations of the `BaseEstimatorV1` interface have been deprecated in favor of their V2 counterparts. The V2 alternative for the `Estimator` class is `StatevectorEstimator`.\n",
      "  estimator  = Estimator()\n"
     ]
    }
   ],
   "source": [
    "\n",
    "def cost_func(params, ansatz, hamiltonian, estimator):\n",
    " \n",
    "    # pub = (ansatz, hamiltonian, params)\n",
    "    # result = estimator.run(pubs=[pub]).result()\n",
    "    # energy = result[0].data.evs[0]\n",
    "\n",
    "    # pub = (ansatz, hamiltonian, params)\n",
    "    # job = estimator.run([pub])\n",
    "    # result = job.result()\n",
    "    # pub_result = result[0]\n",
    "    # energy = float(pub_result.data.evs)\n",
    "\n",
    "    job = estimator.run([ansatz], [hamiltonian], [params])\n",
    "    energy = job.result().values[0]\n",
    "\n",
    "    # job = estimator.run(ansatz, hamiltonian, params)\n",
    "    # energy = job.result().values[0]\n",
    "\n",
    "    # cost_history_dict[\"iters\"] += 1\n",
    "    # cost_history_dict[\"prev_vector\"] = params\n",
    "    # cost_history_dict[\"cost_history\"].append(energy)\n",
    "    # print(f\"Iters. done: {cost_history_dict['iters']} [Current cost: {energy}]\")\n",
    "\n",
    "    return energy\n",
    "\n",
    "estimator  = Estimator()\n",
    "\n"
   ]
  },
  {
   "cell_type": "code",
   "execution_count": 278,
   "metadata": {},
   "outputs": [],
   "source": [
    "#molecule information\n",
    "driver = PySCFDriver(\n",
    "    atom=\"H 0 0 0; H 0 0 0.712; H 0 0 2.712; H 0 0 3.424\",\n",
    "    basis=\"sto3g\",\n",
    "    charge=0,\n",
    "    spin=0,\n",
    "    unit=DistanceUnit.ANGSTROM,\n",
    ")\n",
    "es_problem = driver.run()\n",
    "hamiltonian = es_problem.hamiltonian\n",
    "coefficients = hamiltonian.electronic_integrals\n",
    "second_q_op = hamiltonian.second_q_op()\n",
    "mapper = JordanWignerMapper()\n",
    "qubit_op = mapper.map(second_q_op)\n",
    "\n",
    "constant_energy = es_problem.hamiltonian.constants\n",
    "nuc_rep_energy = list(constant_energy.values())"
   ]
  },
  {
   "cell_type": "code",
   "execution_count": 279,
   "metadata": {},
   "outputs": [],
   "source": [
    "# generate commutator operators \n",
    "ansatz = UCCSD(es_problem.num_spatial_orbitals, \n",
    "               es_problem.num_particles, mapper,  generalized = True,\n",
    "              )\n",
    "comms = []\n",
    "for i in range(0,len(ansatz.operators)):\n",
    "    \n",
    "    comm = commutator(qubit_op,ansatz.operators[i])*(1.0j)\n",
    "    comm = (sum(comm,comm.adjoint())/2)\n",
    "    comm = comm.simplify()\n",
    "    comms.append(comm)"
   ]
  },
  {
   "cell_type": "code",
   "execution_count": 280,
   "metadata": {},
   "outputs": [],
   "source": [
    "def optimization(ansatz, operator, params):\n",
    "    \n",
    "    res = scipy.optimize.minimize(\n",
    "\n",
    "        cost_func,\n",
    "        params,\n",
    "        args=(ansatz, operator,estimator),\n",
    "        method=\"SLSQP\",\n",
    "    )\n",
    "\n",
    "    return res.fun, res.x"
   ]
  },
  {
   "cell_type": "code",
   "execution_count": 281,
   "metadata": {},
   "outputs": [],
   "source": [
    "def comp_commutator(ansatz, hamiltonian, params):\n",
    "    job = estimator.run([ansatz], [hamiltonian], [params])\n",
    "    energy = job.result().values[0]\n",
    "    return energy"
   ]
  },
  {
   "cell_type": "code",
   "execution_count": null,
   "metadata": {},
   "outputs": [
    {
     "name": "stdout",
     "output_type": "stream",
     "text": [
      "0.2614265403\n",
      "0.23260610510000004\n",
      "0.1945921651\n",
      "0.1598711687\n",
      "0.1070868679\n",
      "0.087092052\n",
      "0.0575354044\n",
      "0.0332916493\n",
      "2.28573e-05\n"
     ]
    }
   ],
   "source": [
    "n = 10  # number of cycle\n",
    "eps = 10**(-5) # convergence threshold\n",
    "exc_ops = []\n",
    "energies = []\n",
    "norm = []\n",
    "for i in range(0,n):\n",
    "    if i == 0:\n",
    "\n",
    "        psi0 = HartreeFock(es_problem.num_spatial_orbitals, \n",
    "                              es_problem.num_particles, \n",
    "                              mapper)\n",
    "        grad_vec = []\n",
    "        for j in range(0, len(comms)):\n",
    "\n",
    "            job = estimator.run([psi0], [comms[j]])\n",
    "            grad = job.result().values[0]\n",
    "            # print(grad)\n",
    "            grad_vec.append(grad)\n",
    "        \n",
    "        \n",
    "        grad_vec = np.absolute(np.round(grad_vec, 5))\n",
    "        index = np.where(grad_vec == max(grad_vec))\n",
    "        exc_ops.append(index[0][0])\n",
    "        psi = psi0.copy()\n",
    "        psi = psi.compose(EvolvedOperatorAnsatz(ansatz.operators[index[0][0]], parameter_prefix='t'+str(i)+''))\n",
    "\n",
    "        x = [0]*psi.num_parameters\n",
    "\n",
    "        opt_energy = optimization(psi, qubit_op, x)\n",
    "        # print(opt_energy[0])\n",
    "        energies.append(opt_energy[0]) \n",
    "        # print(opt_energy[1])\n",
    "        x_new = opt_energy[1]\n",
    "        grad_norm = np.dot(grad_vec, grad_vec)\n",
    "        norm.append(grad_norm)\n",
    "    \n",
    "    else:    \n",
    "        \n",
    "        \n",
    "        print(grad_norm)\n",
    "        if grad_norm > eps:\n",
    "            grad_vec = []\n",
    "            for j in range(0, len(comms)):\n",
    "                grad = comp_commutator(psi,comms[j],x_new)\n",
    "                grad_vec.append(grad)\n",
    "\n",
    "            grad_vec = np.absolute(np.round(grad_vec, 5))\n",
    "            index = np.where(grad_vec == max(grad_vec))\n",
    "            exc_ops.append(index[0][0])\n",
    "            psi = psi.compose(EvolvedOperatorAnsatz(ansatz.operators[index[0][0]], parameter_prefix='t'+str(i)+''))\n",
    "\n",
    "            x = [0]*psi.num_parameters\n",
    "\n",
    "            opt_energy = optimization(psi, qubit_op, x)\n",
    "            # print(opt_energy[0]) \n",
    "            energies.append(opt_energy[0]) \n",
    "            # print(opt_energy[1])\n",
    "            x_new = opt_energy[1]\n",
    "            grad_norm = np.dot(grad_vec, grad_vec)\n",
    "            norm.append(grad_norm)  \n",
    "\n",
    "        if grad_norm < eps:\n",
    "            break\n",
    "\n",
    "energies = energies + nuc_rep_energy[0]"
   ]
  },
  {
   "cell_type": "code",
   "execution_count": 283,
   "metadata": {},
   "outputs": [
    {
     "name": "stdout",
     "output_type": "stream",
     "text": [
      "[-2.2378394  -2.24316367 -2.24856111 -2.25515323 -2.25943799 -2.26335244\n",
      " -2.26729083 -2.27185028 -2.27185194 -2.27185381]\n"
     ]
    }
   ],
   "source": [
    "print(energies)"
   ]
  },
  {
   "cell_type": "code",
   "execution_count": 285,
   "metadata": {},
   "outputs": [
    {
     "name": "stdout",
     "output_type": "stream",
     "text": [
      "converged SCF energy = -2.23318331214816\n",
      "E(FCI) = -2.271950242065\n"
     ]
    }
   ],
   "source": [
    "import pyscf\n",
    "from pyscf import gto, scf\n",
    "mol = gto.M(atom='H 0 0 0; H 0 0 0.712; H 0 0 2.712; H 0 0 3.424', basis='sto-3g')\n",
    "myhf = mol.RHF().run()\n",
    "cisolver = pyscf.fci.FCI(myhf)\n",
    "print('E(FCI) = %.12f' % cisolver.kernel()[0])\n"
   ]
  },
  {
   "cell_type": "code",
   "execution_count": 275,
   "metadata": {},
   "outputs": [
    {
     "name": "stdout",
     "output_type": "stream",
     "text": [
      "[np.int64(34), np.int64(23), np.int64(38), np.int64(27), np.int64(20), np.int64(41), np.int64(28), np.int64(33), np.int64(4), np.int64(10)]\n"
     ]
    }
   ],
   "source": [
    "print(exc_ops)"
   ]
  },
  {
   "cell_type": "code",
   "execution_count": 287,
   "metadata": {},
   "outputs": [
    {
     "data": {
      "text/plain": [
       "<matplotlib.legend.Legend at 0x7efe5e580430>"
      ]
     },
     "execution_count": 287,
     "metadata": {},
     "output_type": "execute_result"
    },
    {
     "data": {
      "image/png": "[encoded data removed]",
      "text/plain": [
       "<Figure size 640x480 with 1 Axes>"
      ]
     },
     "metadata": {},
     "output_type": "display_data"
    }
   ],
   "source": [
    "import matplotlib.pyplot as plt\n",
    "x = np.arange(1, len(energies)+1, 1)\n",
    "plt.axhline(y = cisolver.kernel()[0] + 0.0016, color = 'red', linestyle = '-', label = 'Chemical Accuracy')\n",
    "plt.plot(x, energies, marker = 'o')\n",
    "plt.xlabel('Number of parameters or cycles')\n",
    "plt.ylabel('Energy / Ha')\n",
    "# plt.axhline(y = -2.217027768639, color = 'r', linestyle = '-', label = 'FCI')\n",
    "# plt.ylim(-2.22, -2.188)\n",
    "plt.legend()\n",
    "# plt.vlines(-2.217027768639)"
   ]
  },
  {
   "cell_type": "code",
   "execution_count": 289,
   "metadata": {},
   "outputs": [
    {
     "data": {
      "text/plain": [
       "Text(0, 0.5, 'Norm of the gradient vector')"
      ]
     },
     "execution_count": 289,
     "metadata": {},
     "output_type": "execute_result"
    },
    {
     "data": {
      "image/png": "[encoded data removed]",
      "text/plain": [
       "<Figure size 640x480 with 1 Axes>"
      ]
     },
     "metadata": {},
     "output_type": "display_data"
    }
   ],
   "source": [
    "x = np.arange(1, len(norm)+1, 1)\n",
    "plt.plot(x, norm, marker = 'o')\n",
    "plt.xlabel('Number of parameters or cycles')\n",
    "plt.ylabel('Norm of the gradient vector')"
   ]
  },
  {
   "cell_type": "code",
   "execution_count": 291,
   "metadata": {},
   "outputs": [
    {
     "data": {
      "text/plain": [
       "'1.3.1'"
      ]
     },
     "execution_count": 291,
     "metadata": {},
     "output_type": "execute_result"
    }
   ],
   "source": [
    "import qiskit\n",
    "qiskit.__version__"
   ]
  },
  {
   "cell_type": "code",
   "execution_count": 292,
   "metadata": {},
   "outputs": [
    {
     "data": {
      "text/plain": [
       "'0.7.2'"
      ]
     },
     "execution_count": 292,
     "metadata": {},
     "output_type": "execute_result"
    }
   ],
   "source": [
    "import qiskit_nature\n",
    "qiskit_nature.__version__"
   ]
  },
  {
   "cell_type": "code",
   "execution_count": 293,
   "metadata": {},
   "outputs": [
    {
     "data": {
      "text/plain": [
       "'0.7.2'"
      ]
     },
     "execution_count": 293,
     "metadata": {},
     "output_type": "execute_result"
    }
   ],
   "source": [
    "import qiskit_nature\n",
    "qiskit_nature.__version__"
   ]
  },
  {
   "cell_type": "code",
   "execution_count": 294,
   "metadata": {},
   "outputs": [
    {
     "data": {
      "text/plain": [
       "'0.15.1'"
      ]
     },
     "execution_count": 294,
     "metadata": {},
     "output_type": "execute_result"
    }
   ],
   "source": [
    "import qiskit_aer\n",
    "qiskit_aer.__version__"
   ]
  },
  {
   "cell_type": "code",
   "execution_count": 295,
   "metadata": {},
   "outputs": [
    {
     "data": {
      "text/plain": [
       "'1.15.0'"
      ]
     },
     "execution_count": 295,
     "metadata": {},
     "output_type": "execute_result"
    }
   ],
   "source": [
    "import scipy\n",
    "scipy.__version__"
   ]
  },
  {
   "cell_type": "code",
   "execution_count": null,
   "metadata": {},
   "outputs": [],
   "source": []
  }
 ],
 "metadata": {
  "kernelspec": {
   "display_name": "Python 3",
   "language": "python",
   "name": "python3"
  },
  "language_info": {
   "codemirror_mode": {
    "name": "ipython",
    "version": 3
   },
   "file_extension": ".py",
   "mimetype": "text/x-python",
   "name": "python",
   "nbconvert_exporter": "python",
   "pygments_lexer": "ipython3",
   "version": "3.10.12"
  }
 },
 "nbformat": 4,
 "nbformat_minor": 2
}
